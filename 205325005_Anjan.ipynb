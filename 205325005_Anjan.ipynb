{
  "cells": [
    {
      "cell_type": "markdown",
      "metadata": {
        "id": "view-in-github",
        "colab_type": "text"
      },
      "source": [
        "<a href=\"https://colab.research.google.com/github/ianjan10/Practical/blob/main/205325005_Anjan.ipynb\" target=\"_parent\"><img src=\"https://colab.research.google.com/assets/colab-badge.svg\" alt=\"Open In Colab\"/></a>"
      ]
    },
    {
      "cell_type": "code",
      "execution_count": 7,
      "id": "9a2667e7",
      "metadata": {
        "id": "9a2667e7"
      },
      "outputs": [],
      "source": [
        "import matplotlib.pyplot as plt"
      ]
    },
    {
      "cell_type": "code",
      "execution_count": 8,
      "id": "308a7916-6f82-4180-9969-73697eb99931",
      "metadata": {
        "id": "308a7916-6f82-4180-9969-73697eb99931"
      },
      "outputs": [],
      "source": [
        "home_to_school = 5\n",
        "school_to_market = 3"
      ]
    },
    {
      "cell_type": "code",
      "execution_count": 9,
      "id": "b4adccc8",
      "metadata": {
        "id": "b4adccc8"
      },
      "outputs": [],
      "source": [
        "route1 = home_to_school + school_to_market\n",
        "route2 = school_to_market + home_to_school"
      ]
    },
    {
      "cell_type": "code",
      "execution_count": 10,
      "id": "5c5d15b5",
      "metadata": {
        "colab": {
          "base_uri": "https://localhost:8080/"
        },
        "id": "5c5d15b5",
        "outputId": "2f431a9d-10ba-44ca-d9cf-a91884ee51be"
      },
      "outputs": [
        {
          "output_type": "stream",
          "name": "stdout",
          "text": [
            "Route 1 (Home -> School -> Market): 8 km\n",
            "Route 2 (Market -> School -> Home): 8 km\n"
          ]
        }
      ],
      "source": [
        "print(\"Route 1 (Home -> School -> Market):\", route1, \"km\")\n",
        "print(\"Route 2 (Market -> School -> Home):\", route2, \"km\")"
      ]
    },
    {
      "cell_type": "code",
      "execution_count": 11,
      "id": "52b37fec",
      "metadata": {
        "id": "52b37fec"
      },
      "outputs": [],
      "source": [
        "routes = [\"Home-School-Market\", \"Market-School-Home\"]\n",
        "distances = [route1, route2]"
      ]
    },
    {
      "cell_type": "code",
      "execution_count": 12,
      "id": "dbc02c7c",
      "metadata": {
        "colab": {
          "base_uri": "https://localhost:8080/",
          "height": 470
        },
        "id": "dbc02c7c",
        "outputId": "2fe37f1c-09c7-4df3-9130-dacae88de1fc"
      },
      "outputs": [
        {
          "output_type": "execute_result",
          "data": {
            "text/plain": [
              "(0.0, 10.0)"
            ]
          },
          "metadata": {},
          "execution_count": 12
        },
        {
          "output_type": "display_data",
          "data": {
            "text/plain": [
              "<Figure size 640x480 with 1 Axes>"
            ],
            "image/png": "[encoded data removed]"
          },
          "metadata": {}
        }
      ],
      "source": [
        "plt.bar(routes, distances, color=[\"blue\", \"orange\"], alpha=0.7)\n",
        "plt.title(\"Commutative Law Example: Person Travel Distance\")\n",
        "plt.ylabel(\"Total Distance (km)\")\n",
        "plt.ylim(0, max(distances) + 2)"
      ]
    }
  ],
  "metadata": {
    "kernelspec": {
      "display_name": "Python 3 (ipykernel)",
      "language": "python",
      "name": "python3"
    },
    "language_info": {
      "codemirror_mode": {
        "name": "ipython",
        "version": 3
      },
      "file_extension": ".py",
      "mimetype": "text/x-python",
      "name": "python",
      "nbconvert_exporter": "python",
      "pygments_lexer": "ipython3",
      "version": "3.11.5"
    },
    "colab": {
      "provenance": [],
      "include_colab_link": true
    }
  },
  "nbformat": 4,
  "nbformat_minor": 5
}